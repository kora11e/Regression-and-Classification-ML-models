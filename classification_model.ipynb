{
 "cells": [
  {
   "cell_type": "markdown",
   "metadata": {},
   "source": [
    "<h2>Data Analysis using Classification methods</h2>"
   ]
  },
  {
   "cell_type": "code",
   "execution_count": 442,
   "metadata": {},
   "outputs": [],
   "source": [
    "import pandas as pd, numpy as np, matplotlib.pyplot as plt, re, seaborn as sb, zipfile"
   ]
  },
  {
   "cell_type": "code",
   "execution_count": 443,
   "metadata": {},
   "outputs": [],
   "source": [
    "job_change_test = pd.read_csv(\"./ML2023/job_change/job_change_test.zip\", compression='zip')\n",
    "job_change_train = pd.read_csv(\"./ML2023/job_change/job_change_train.zip\", compression='zip')"
   ]
  },
  {
   "cell_type": "code",
   "execution_count": 444,
   "metadata": {},
   "outputs": [
    {
     "data": {
      "text/plain": [
       "id                          int64\n",
       "gender                     object\n",
       "age                         int64\n",
       "education                  object\n",
       "field_of_studies           object\n",
       "is_studying                object\n",
       "county                     object\n",
       "relative_wage             float64\n",
       "years_since_job_change     object\n",
       "years_of_experience        object\n",
       "hours_of_training           int64\n",
       "is_certified                int64\n",
       "size_of_company            object\n",
       "type_of_company            object\n",
       "dtype: object"
      ]
     },
     "execution_count": 444,
     "metadata": {},
     "output_type": "execute_result"
    }
   ],
   "source": [
    "job_change_test.dtypes"
   ]
  },
  {
   "cell_type": "code",
   "execution_count": 445,
   "metadata": {},
   "outputs": [
    {
     "data": {
      "text/plain": [
       "id                          int64\n",
       "gender                     object\n",
       "age                         int64\n",
       "education                  object\n",
       "field_of_studies           object\n",
       "is_studying                object\n",
       "county                     object\n",
       "relative_wage             float64\n",
       "years_since_job_change     object\n",
       "years_of_experience        object\n",
       "hours_of_training           int64\n",
       "is_certified                int64\n",
       "size_of_company            object\n",
       "type_of_company            object\n",
       "willing_to_change_job      object\n",
       "dtype: object"
      ]
     },
     "execution_count": 445,
     "metadata": {},
     "output_type": "execute_result"
    }
   ],
   "source": [
    "job_change_train.dtypes"
   ]
  },
  {
   "cell_type": "code",
   "execution_count": 446,
   "metadata": {},
   "outputs": [
    {
     "name": "stdout",
     "output_type": "stream",
     "text": [
      "Job change train dataset length is: 15 while Job change test dataset length is: 14)\n"
     ]
    }
   ],
   "source": [
    "print(f'Job change train dataset length is: {len(job_change_train.dtypes)} while Job change test dataset length is: {len(job_change_test.dtypes)})')"
   ]
  },
  {
   "cell_type": "code",
   "execution_count": 447,
   "metadata": {},
   "outputs": [
    {
     "data": {
      "text/plain": [
       "id                        0\n",
       "gender                    0\n",
       "age                       0\n",
       "education                 0\n",
       "field_of_studies          0\n",
       "is_studying               0\n",
       "county                    0\n",
       "relative_wage             0\n",
       "years_since_job_change    0\n",
       "years_of_experience       0\n",
       "hours_of_training         0\n",
       "is_certified              0\n",
       "size_of_company           0\n",
       "type_of_company           0\n",
       "willing_to_change_job     0\n",
       "dtype: int64"
      ]
     },
     "execution_count": 447,
     "metadata": {},
     "output_type": "execute_result"
    }
   ],
   "source": [
    "missing_count = job_change_train.isna().sum()\n",
    "missing_count"
   ]
  },
  {
   "cell_type": "markdown",
   "metadata": {},
   "source": [
    "Our model is free of missing data bricks so we can go on with analysis."
   ]
  },
  {
   "cell_type": "code",
   "execution_count": 448,
   "metadata": {},
   "outputs": [],
   "source": [
    "X_train = job_change_train.drop(['willing_to_change_job','id', 'size_of_company'], axis=1)\n",
    "X_test = job_change_test.drop(['id', 'size_of_company'], axis=1)\n",
    "y_true = job_change_train['willing_to_change_job']"
   ]
  },
  {
   "cell_type": "markdown",
   "metadata": {},
   "source": [
    "<h3>Data transformation stage</h3>"
   ]
  },
  {
   "cell_type": "code",
   "execution_count": 449,
   "metadata": {},
   "outputs": [
    {
     "data": {
      "text/html": [
       "<div>\n",
       "<style scoped>\n",
       "    .dataframe tbody tr th:only-of-type {\n",
       "        vertical-align: middle;\n",
       "    }\n",
       "\n",
       "    .dataframe tbody tr th {\n",
       "        vertical-align: top;\n",
       "    }\n",
       "\n",
       "    .dataframe thead th {\n",
       "        text-align: right;\n",
       "    }\n",
       "</style>\n",
       "<table border=\"1\" class=\"dataframe\">\n",
       "  <thead>\n",
       "    <tr style=\"text-align: right;\">\n",
       "      <th></th>\n",
       "      <th>gender</th>\n",
       "      <th>age</th>\n",
       "      <th>education</th>\n",
       "      <th>field_of_studies</th>\n",
       "      <th>is_studying</th>\n",
       "      <th>county</th>\n",
       "      <th>relative_wage</th>\n",
       "      <th>years_since_job_change</th>\n",
       "      <th>years_of_experience</th>\n",
       "      <th>hours_of_training</th>\n",
       "      <th>is_certified</th>\n",
       "      <th>type_of_company</th>\n",
       "    </tr>\n",
       "  </thead>\n",
       "  <tbody>\n",
       "    <tr>\n",
       "      <th>0</th>\n",
       "      <td>Male</td>\n",
       "      <td>22</td>\n",
       "      <td>higher_BSc</td>\n",
       "      <td>science</td>\n",
       "      <td>no</td>\n",
       "      <td>county_118</td>\n",
       "      <td>162.84</td>\n",
       "      <td>1</td>\n",
       "      <td>2</td>\n",
       "      <td>18</td>\n",
       "      <td>1</td>\n",
       "      <td>private_company</td>\n",
       "    </tr>\n",
       "    <tr>\n",
       "      <th>1</th>\n",
       "      <td>Male</td>\n",
       "      <td>27</td>\n",
       "      <td>higher_BSc</td>\n",
       "      <td>science</td>\n",
       "      <td>no</td>\n",
       "      <td>county_028</td>\n",
       "      <td>151.34</td>\n",
       "      <td>1</td>\n",
       "      <td>6</td>\n",
       "      <td>24</td>\n",
       "      <td>1</td>\n",
       "      <td>private_company</td>\n",
       "    </tr>\n",
       "    <tr>\n",
       "      <th>2</th>\n",
       "      <td>Male</td>\n",
       "      <td>38</td>\n",
       "      <td>higher_BSc</td>\n",
       "      <td>science</td>\n",
       "      <td>no</td>\n",
       "      <td>county_031</td>\n",
       "      <td>114.17</td>\n",
       "      <td>1</td>\n",
       "      <td>13</td>\n",
       "      <td>96</td>\n",
       "      <td>1</td>\n",
       "      <td>startup_with_funding</td>\n",
       "    </tr>\n",
       "    <tr>\n",
       "      <th>3</th>\n",
       "      <td>Unknown</td>\n",
       "      <td>47</td>\n",
       "      <td>higher_BSc</td>\n",
       "      <td>science</td>\n",
       "      <td>no</td>\n",
       "      <td>county_080</td>\n",
       "      <td>123.55</td>\n",
       "      <td>&gt;4</td>\n",
       "      <td>&gt;20</td>\n",
       "      <td>36</td>\n",
       "      <td>1</td>\n",
       "      <td>private_company</td>\n",
       "    </tr>\n",
       "    <tr>\n",
       "      <th>4</th>\n",
       "      <td>Male</td>\n",
       "      <td>28</td>\n",
       "      <td>higher_BSc</td>\n",
       "      <td>science</td>\n",
       "      <td>no</td>\n",
       "      <td>county_118</td>\n",
       "      <td>162.84</td>\n",
       "      <td>1</td>\n",
       "      <td>5</td>\n",
       "      <td>106</td>\n",
       "      <td>1</td>\n",
       "      <td>private_company</td>\n",
       "    </tr>\n",
       "    <tr>\n",
       "      <th>...</th>\n",
       "      <td>...</td>\n",
       "      <td>...</td>\n",
       "      <td>...</td>\n",
       "      <td>...</td>\n",
       "      <td>...</td>\n",
       "      <td>...</td>\n",
       "      <td>...</td>\n",
       "      <td>...</td>\n",
       "      <td>...</td>\n",
       "      <td>...</td>\n",
       "      <td>...</td>\n",
       "      <td>...</td>\n",
       "    </tr>\n",
       "    <tr>\n",
       "      <th>12422</th>\n",
       "      <td>Male</td>\n",
       "      <td>27</td>\n",
       "      <td>secondary</td>\n",
       "      <td>no_information</td>\n",
       "      <td>full_time</td>\n",
       "      <td>county_084</td>\n",
       "      <td>98.24</td>\n",
       "      <td>never_changed</td>\n",
       "      <td>2</td>\n",
       "      <td>34</td>\n",
       "      <td>0</td>\n",
       "      <td>no_information</td>\n",
       "    </tr>\n",
       "    <tr>\n",
       "      <th>12423</th>\n",
       "      <td>Male</td>\n",
       "      <td>31</td>\n",
       "      <td>higher_BSc</td>\n",
       "      <td>science</td>\n",
       "      <td>no</td>\n",
       "      <td>county_059</td>\n",
       "      <td>110.45</td>\n",
       "      <td>1</td>\n",
       "      <td>7</td>\n",
       "      <td>116</td>\n",
       "      <td>1</td>\n",
       "      <td>private_company</td>\n",
       "    </tr>\n",
       "    <tr>\n",
       "      <th>12424</th>\n",
       "      <td>Male</td>\n",
       "      <td>47</td>\n",
       "      <td>Phd</td>\n",
       "      <td>science</td>\n",
       "      <td>no</td>\n",
       "      <td>county_118</td>\n",
       "      <td>162.84</td>\n",
       "      <td>never_changed</td>\n",
       "      <td>&gt;20</td>\n",
       "      <td>144</td>\n",
       "      <td>1</td>\n",
       "      <td>private_company</td>\n",
       "    </tr>\n",
       "    <tr>\n",
       "      <th>12425</th>\n",
       "      <td>Male</td>\n",
       "      <td>24</td>\n",
       "      <td>higher_BSc</td>\n",
       "      <td>science</td>\n",
       "      <td>no</td>\n",
       "      <td>county_059</td>\n",
       "      <td>110.45</td>\n",
       "      <td>never_changed</td>\n",
       "      <td>5</td>\n",
       "      <td>100</td>\n",
       "      <td>1</td>\n",
       "      <td>private_company</td>\n",
       "    </tr>\n",
       "    <tr>\n",
       "      <th>12426</th>\n",
       "      <td>Male</td>\n",
       "      <td>27</td>\n",
       "      <td>higher_BSc</td>\n",
       "      <td>science</td>\n",
       "      <td>full_time</td>\n",
       "      <td>county_028</td>\n",
       "      <td>151.34</td>\n",
       "      <td>1</td>\n",
       "      <td>7</td>\n",
       "      <td>38</td>\n",
       "      <td>0</td>\n",
       "      <td>private_company</td>\n",
       "    </tr>\n",
       "  </tbody>\n",
       "</table>\n",
       "<p>12427 rows × 12 columns</p>\n",
       "</div>"
      ],
      "text/plain": [
       "        gender  age   education field_of_studies is_studying      county  \\\n",
       "0         Male   22  higher_BSc          science          no  county_118   \n",
       "1         Male   27  higher_BSc          science          no  county_028   \n",
       "2         Male   38  higher_BSc          science          no  county_031   \n",
       "3      Unknown   47  higher_BSc          science          no  county_080   \n",
       "4         Male   28  higher_BSc          science          no  county_118   \n",
       "...        ...  ...         ...              ...         ...         ...   \n",
       "12422     Male   27   secondary   no_information   full_time  county_084   \n",
       "12423     Male   31  higher_BSc          science          no  county_059   \n",
       "12424     Male   47         Phd          science          no  county_118   \n",
       "12425     Male   24  higher_BSc          science          no  county_059   \n",
       "12426     Male   27  higher_BSc          science   full_time  county_028   \n",
       "\n",
       "       relative_wage years_since_job_change years_of_experience  \\\n",
       "0             162.84                      1                   2   \n",
       "1             151.34                      1                   6   \n",
       "2             114.17                      1                  13   \n",
       "3             123.55                     >4                 >20   \n",
       "4             162.84                      1                   5   \n",
       "...              ...                    ...                 ...   \n",
       "12422          98.24          never_changed                   2   \n",
       "12423         110.45                      1                   7   \n",
       "12424         162.84          never_changed                 >20   \n",
       "12425         110.45          never_changed                   5   \n",
       "12426         151.34                      1                   7   \n",
       "\n",
       "       hours_of_training  is_certified       type_of_company  \n",
       "0                     18             1       private_company  \n",
       "1                     24             1       private_company  \n",
       "2                     96             1  startup_with_funding  \n",
       "3                     36             1       private_company  \n",
       "4                    106             1       private_company  \n",
       "...                  ...           ...                   ...  \n",
       "12422                 34             0        no_information  \n",
       "12423                116             1       private_company  \n",
       "12424                144             1       private_company  \n",
       "12425                100             1       private_company  \n",
       "12426                 38             0       private_company  \n",
       "\n",
       "[12427 rows x 12 columns]"
      ]
     },
     "execution_count": 449,
     "metadata": {},
     "output_type": "execute_result"
    }
   ],
   "source": [
    "X_train"
   ]
  },
  {
   "cell_type": "code",
   "execution_count": 450,
   "metadata": {},
   "outputs": [
    {
     "data": {
      "text/plain": [
       "array(['science', 'no_information', 'other', 'humanities', 'business',\n",
       "       'arts'], dtype=object)"
      ]
     },
     "execution_count": 450,
     "metadata": {},
     "output_type": "execute_result"
    }
   ],
   "source": [
    "pd.unique(X_train['field_of_studies'])"
   ]
  },
  {
   "cell_type": "code",
   "execution_count": 451,
   "metadata": {},
   "outputs": [],
   "source": [
    "X_train[['field_of_studies', 'education', 'is_studying', 'county', 'gender', 'type_of_company']] = X_train[['field_of_studies', 'education', 'is_studying', 'county', 'gender', 'type_of_company']].apply(lambda x: pd.factorize(x)[0])\n",
    "X_test[['field_of_studies', 'education', 'is_studying', 'county', 'gender', 'type_of_company']] = X_test[['field_of_studies', 'education', 'is_studying', 'county', 'gender', 'type_of_company']].apply(lambda x: pd.factorize(x)[0])"
   ]
  },
  {
   "cell_type": "code",
   "execution_count": 452,
   "metadata": {},
   "outputs": [
    {
     "data": {
      "text/plain": [
       "array([0, 1, 2, 3], dtype=int64)"
      ]
     },
     "execution_count": 452,
     "metadata": {},
     "output_type": "execute_result"
    }
   ],
   "source": [
    "pd.unique(X_train['gender'])"
   ]
  },
  {
   "cell_type": "code",
   "execution_count": 453,
   "metadata": {},
   "outputs": [
    {
     "data": {
      "text/plain": [
       "gender                      int64\n",
       "age                         int64\n",
       "education                   int64\n",
       "field_of_studies            int64\n",
       "is_studying                 int64\n",
       "county                      int64\n",
       "relative_wage             float64\n",
       "years_since_job_change     object\n",
       "years_of_experience        object\n",
       "hours_of_training           int64\n",
       "is_certified                int64\n",
       "type_of_company             int64\n",
       "dtype: object"
      ]
     },
     "execution_count": 453,
     "metadata": {},
     "output_type": "execute_result"
    }
   ],
   "source": [
    "X_train.dtypes"
   ]
  },
  {
   "cell_type": "markdown",
   "metadata": {},
   "source": [
    "<h3>Now we have to transform quasi numerical data. Factorizing this values with not have positive effect on the data so we have to go around that using regular expressions, data manipulation and imputation.</h3>"
   ]
  },
  {
   "cell_type": "code",
   "execution_count": 454,
   "metadata": {},
   "outputs": [
    {
     "data": {
      "text/plain": [
       "0          20\n",
       "1          60\n",
       "2        1030\n",
       "3        2000\n",
       "4          50\n",
       "         ... \n",
       "12422      20\n",
       "12423      70\n",
       "12424    2000\n",
       "12425      50\n",
       "12426      70\n",
       "Name: years_of_experience, Length: 12427, dtype: int32"
      ]
     },
     "execution_count": 454,
     "metadata": {},
     "output_type": "execute_result"
    }
   ],
   "source": [
    "X_train['years_of_experience'] = X_train['years_of_experience'].map(lambda x: re.sub(\"[^0-9]\",'', x))\n",
    "X_train['years_of_experience'] = X_train['years_of_experience'].replace(r'^\\s*$', '0', regex=True)\n",
    "X_train['years_of_experience'] = X_train['years_of_experience'].map(lambda x: x.replace('', '0'))\n",
    "X_train['years_of_experience'] = X_train['years_of_experience'].astype(int)\n",
    "X_train['years_of_experience']"
   ]
  },
  {
   "cell_type": "code",
   "execution_count": 455,
   "metadata": {},
   "outputs": [
    {
     "data": {
      "text/plain": [
       "0         90\n",
       "1         90\n",
       "2       1070\n",
       "3       1000\n",
       "4       1000\n",
       "        ... \n",
       "3303      20\n",
       "3304      70\n",
       "3305    1040\n",
       "3306    2000\n",
       "3307      20\n",
       "Name: years_of_experience, Length: 3308, dtype: int32"
      ]
     },
     "execution_count": 455,
     "metadata": {},
     "output_type": "execute_result"
    }
   ],
   "source": [
    "X_test['years_of_experience'] = X_test['years_of_experience'].map(lambda x: re.sub(\"[^0-9]\",'', x))\n",
    "X_test['years_of_experience'] = X_test['years_of_experience'].replace(r'^\\s*$', '0', regex=True)\n",
    "X_test['years_of_experience'] = X_test['years_of_experience'].map(lambda x: x.replace('', '0'))\n",
    "X_test['years_of_experience'] = X_test['years_of_experience'].astype(int)\n",
    "X_test['years_of_experience']"
   ]
  },
  {
   "cell_type": "code",
   "execution_count": 456,
   "metadata": {},
   "outputs": [
    {
     "data": {
      "text/plain": [
       "10172    0\n",
       "1780     0\n",
       "9847     0\n",
       "9842     0\n",
       "9834     0\n",
       "        ..\n",
       "7679     4\n",
       "10361    4\n",
       "3246     4\n",
       "7692     4\n",
       "4983     4\n",
       "Name: years_since_job_change, Length: 12427, dtype: int32"
      ]
     },
     "execution_count": 456,
     "metadata": {},
     "output_type": "execute_result"
    }
   ],
   "source": [
    "X_train['years_since_job_change'] = X_train['years_since_job_change'].map(lambda x: x.replace('never_changed', '0'))\n",
    "X_train['years_since_job_change'] = X_train['years_since_job_change'].map(lambda x: re.sub(\"[^0-9]\",'', x))\n",
    "X_train['years_since_job_change'] = X_train['years_since_job_change'].replace(r'^\\s*$', '0', regex=True)\n",
    "X_train['years_since_job_change'] = X_train['years_since_job_change'].astype(int)\n",
    "#pd.unique(X['years_since_job_change'])\n",
    "X_train['years_since_job_change'].sort_values()"
   ]
  },
  {
   "cell_type": "code",
   "execution_count": 457,
   "metadata": {},
   "outputs": [
    {
     "data": {
      "text/plain": [
       "2614    0\n",
       "426     0\n",
       "1713    0\n",
       "428     0\n",
       "2253    0\n",
       "       ..\n",
       "1139    4\n",
       "1132    4\n",
       "1129    4\n",
       "1339    4\n",
       "0       4\n",
       "Name: years_since_job_change, Length: 3308, dtype: int32"
      ]
     },
     "execution_count": 457,
     "metadata": {},
     "output_type": "execute_result"
    }
   ],
   "source": [
    "X_test['years_since_job_change'] = X_test['years_since_job_change'].map(lambda x: x.replace('never_changed', '0'))\n",
    "X_test['years_since_job_change'] = X_test['years_since_job_change'].map(lambda x: re.sub(\"[^0-9]\",'', x))\n",
    "X_test['years_since_job_change'] = X_test['years_since_job_change'].replace(r'^\\s*$', '0', regex=True)\n",
    "X_test['years_since_job_change'] = X_test['years_since_job_change'].astype(int)\n",
    "#pd.unique(X['years_since_job_change'])\n",
    "X_test['years_since_job_change'].sort_values()"
   ]
  },
  {
   "cell_type": "code",
   "execution_count": 458,
   "metadata": {},
   "outputs": [
    {
     "name": "stdout",
     "output_type": "stream",
     "text": [
      "Training sample value types:\n",
      " gender                      int64\n",
      "age                         int64\n",
      "education                   int64\n",
      "field_of_studies            int64\n",
      "is_studying                 int64\n",
      "county                      int64\n",
      "relative_wage             float64\n",
      "years_since_job_change      int32\n",
      "years_of_experience         int32\n",
      "hours_of_training           int64\n",
      "is_certified                int64\n",
      "type_of_company             int64\n",
      "dtype: object \n",
      "\n",
      " Testing sample value types:\n",
      " gender                      int64\n",
      "age                         int64\n",
      "education                   int64\n",
      "field_of_studies            int64\n",
      "is_studying                 int64\n",
      "county                      int64\n",
      "relative_wage             float64\n",
      "years_since_job_change      int32\n",
      "years_of_experience         int32\n",
      "hours_of_training           int64\n",
      "is_certified                int64\n",
      "type_of_company             int64\n",
      "dtype: object\n"
     ]
    }
   ],
   "source": [
    "print('Training sample value types:\\n', X_train.dtypes, '\\n\\n', 'Testing sample value types:\\n', X_test.dtypes)"
   ]
  },
  {
   "cell_type": "code",
   "execution_count": 464,
   "metadata": {},
   "outputs": [
    {
     "data": {
      "text/plain": [
       "<Axes: >"
      ]
     },
     "execution_count": 464,
     "metadata": {},
     "output_type": "execute_result"
    },
    {
     "data": {
      "image/png": "[encoded data removed]",
      "text/plain": [
       "<Figure size 640x480 with 1 Axes>"
      ]
     },
     "metadata": {},
     "output_type": "display_data"
    }
   ],
   "source": [
    "sb.boxplot(data=X_train[['relative_wage', 'hours_of_training', 'years_of_experience']])"
   ]
  },
  {
   "cell_type": "code",
   "execution_count": 465,
   "metadata": {},
   "outputs": [
    {
     "data": {
      "text/plain": [
       "<Axes: >"
      ]
     },
     "execution_count": 465,
     "metadata": {},
     "output_type": "execute_result"
    },
    {
     "data": {
      "image/png": "[encoded data removed]",
      "text/plain": [
       "<Figure size 640x480 with 1 Axes>"
      ]
     },
     "metadata": {},
     "output_type": "display_data"
    }
   ],
   "source": [
    "sb.boxplot(data=X_train[['age', 'county', 'gender', 'education']])"
   ]
  },
  {
   "cell_type": "code",
   "execution_count": 470,
   "metadata": {},
   "outputs": [
    {
     "data": {
      "text/plain": [
       "<Axes: ylabel='Density'>"
      ]
     },
     "execution_count": 470,
     "metadata": {},
     "output_type": "execute_result"
    },
    {
     "data": {
      "image/png": "[encoded data removed]",
      "text/plain": [
       "<Figure size 640x480 with 1 Axes>"
      ]
     },
     "metadata": {},
     "output_type": "display_data"
    }
   ],
   "source": [
    "X_train[['age', 'county', 'education']].plot(kind='density')"
   ]
  },
  {
   "cell_type": "code",
   "execution_count": 471,
   "metadata": {},
   "outputs": [
    {
     "data": {
      "text/plain": [
       "<Axes: ylabel='Density'>"
      ]
     },
     "execution_count": 471,
     "metadata": {},
     "output_type": "execute_result"
    },
    {
     "data": {
      "image/png": "[encoded data removed]",
      "text/plain": [
       "<Figure size 640x480 with 1 Axes>"
      ]
     },
     "metadata": {},
     "output_type": "display_data"
    }
   ],
   "source": [
    "X_train[['years_of_experience']].plot(kind='density')"
   ]
  },
  {
   "cell_type": "markdown",
   "metadata": {},
   "source": [
    "<h2>Feature Selection Stage</h2>"
   ]
  },
  {
   "cell_type": "markdown",
   "metadata": {},
   "source": [
    "<h3>First we check for correlation between explanatory variables</h3>"
   ]
  },
  {
   "cell_type": "code",
   "execution_count": 398,
   "metadata": {},
   "outputs": [
    {
     "data": {
      "text/plain": [
       "<Axes: >"
      ]
     },
     "execution_count": 398,
     "metadata": {},
     "output_type": "execute_result"
    },
    {
     "data": {
      "image/png": "[encoded data removed]",
      "text/plain": [
       "<Figure size 1000x900 with 2 Axes>"
      ]
     },
     "metadata": {},
     "output_type": "display_data"
    }
   ],
   "source": [
    "Pearson_corr = X_train.corr(method='pearson')\n",
    "mask = np.triu(np.ones_like(Pearson_corr, dtype=bool))\n",
    "f, ax = plt.subplots(figsize=(10,9))\n",
    "cmap = sb.diverging_palette(230, 20, as_cmap=True)\n",
    "sb.heatmap(Pearson_corr, mask=mask, cmap=cmap, vmax=.3, center=0, square=True, linewidths=.5, cbar_kws={'shrink':.5})"
   ]
  },
  {
   "cell_type": "code",
   "execution_count": 399,
   "metadata": {},
   "outputs": [
    {
     "data": {
      "text/plain": [
       "<Axes: >"
      ]
     },
     "execution_count": 399,
     "metadata": {},
     "output_type": "execute_result"
    },
    {
     "data": {
      "image/png": "[encoded data removed]",
      "text/plain": [
       "<Figure size 1000x900 with 2 Axes>"
      ]
     },
     "metadata": {},
     "output_type": "display_data"
    }
   ],
   "source": [
    "Kendall_corr = X_train.corr(method='kendall')\n",
    "mask = np.triu(np.ones_like(Kendall_corr, dtype=bool))\n",
    "f, ax = plt.subplots(figsize=(10,9))\n",
    "cmap = sb.diverging_palette(230, 20, as_cmap=True)\n",
    "sb.heatmap(Kendall_corr, mask=mask, cmap=cmap, vmax=.3, center=0, square=True, linewidths=.5, cbar_kws={'shrink':.5})"
   ]
  },
  {
   "cell_type": "code",
   "execution_count": 400,
   "metadata": {},
   "outputs": [
    {
     "data": {
      "text/plain": [
       "<Axes: >"
      ]
     },
     "execution_count": 400,
     "metadata": {},
     "output_type": "execute_result"
    },
    {
     "data": {
      "image/png": "[encoded data removed]",
      "text/plain": [
       "<Figure size 1000x900 with 2 Axes>"
      ]
     },
     "metadata": {},
     "output_type": "display_data"
    }
   ],
   "source": [
    "Spearman_corr = X_train.corr(method='spearman')\n",
    "mask = np.triu(np.ones_like(Spearman_corr, dtype=bool))\n",
    "f, ax = plt.subplots(figsize=(10,9))\n",
    "cmap = sb.diverging_palette(230, 20, as_cmap=True)\n",
    "sb.heatmap(Spearman_corr, mask=mask, cmap=cmap, vmax=.3, center=0, square=True, linewidths=.5, cbar_kws={'shrink':.5})"
   ]
  },
  {
   "cell_type": "markdown",
   "metadata": {},
   "source": [
    "<h3>Checking Correlation between target and features</h3>"
   ]
  },
  {
   "cell_type": "markdown",
   "metadata": {},
   "source": [
    "<h3>Next we are looking for correlation between target and features</h3>"
   ]
  },
  {
   "cell_type": "code",
   "execution_count": 401,
   "metadata": {},
   "outputs": [
    {
     "data": {
      "text/plain": [
       "gender                      int64\n",
       "age                         int64\n",
       "education                   int64\n",
       "field_of_studies            int64\n",
       "is_studying                 int64\n",
       "county                      int64\n",
       "relative_wage             float64\n",
       "years_since_job_change      int32\n",
       "years_of_experience         int32\n",
       "hours_of_training           int64\n",
       "is_certified                int64\n",
       "type_of_company             int64\n",
       "dtype: object"
      ]
     },
     "execution_count": 401,
     "metadata": {},
     "output_type": "execute_result"
    }
   ],
   "source": [
    "X_train.dtypes"
   ]
  },
  {
   "cell_type": "code",
   "execution_count": 402,
   "metadata": {},
   "outputs": [
    {
     "data": {
      "text/plain": [
       "dtype('O')"
      ]
     },
     "execution_count": 402,
     "metadata": {},
     "output_type": "execute_result"
    }
   ],
   "source": [
    "y_true.dtype"
   ]
  },
  {
   "cell_type": "code",
   "execution_count": 403,
   "metadata": {},
   "outputs": [],
   "source": [
    "X_target_measure = X_train.copy()"
   ]
  },
  {
   "cell_type": "code",
   "execution_count": 404,
   "metadata": {},
   "outputs": [
    {
     "data": {
      "text/html": [
       "<div>\n",
       "<style scoped>\n",
       "    .dataframe tbody tr th:only-of-type {\n",
       "        vertical-align: middle;\n",
       "    }\n",
       "\n",
       "    .dataframe tbody tr th {\n",
       "        vertical-align: top;\n",
       "    }\n",
       "\n",
       "    .dataframe thead th {\n",
       "        text-align: right;\n",
       "    }\n",
       "</style>\n",
       "<table border=\"1\" class=\"dataframe\">\n",
       "  <thead>\n",
       "    <tr style=\"text-align: right;\">\n",
       "      <th></th>\n",
       "      <th>willing_to_change_job</th>\n",
       "    </tr>\n",
       "  </thead>\n",
       "  <tbody>\n",
       "    <tr>\n",
       "      <th>0</th>\n",
       "      <td>No</td>\n",
       "    </tr>\n",
       "    <tr>\n",
       "      <th>1</th>\n",
       "      <td>No</td>\n",
       "    </tr>\n",
       "    <tr>\n",
       "      <th>2</th>\n",
       "      <td>No</td>\n",
       "    </tr>\n",
       "    <tr>\n",
       "      <th>3</th>\n",
       "      <td>No</td>\n",
       "    </tr>\n",
       "    <tr>\n",
       "      <th>4</th>\n",
       "      <td>No</td>\n",
       "    </tr>\n",
       "    <tr>\n",
       "      <th>...</th>\n",
       "      <td>...</td>\n",
       "    </tr>\n",
       "    <tr>\n",
       "      <th>12422</th>\n",
       "      <td>Yes</td>\n",
       "    </tr>\n",
       "    <tr>\n",
       "      <th>12423</th>\n",
       "      <td>Yes</td>\n",
       "    </tr>\n",
       "    <tr>\n",
       "      <th>12424</th>\n",
       "      <td>No</td>\n",
       "    </tr>\n",
       "    <tr>\n",
       "      <th>12425</th>\n",
       "      <td>No</td>\n",
       "    </tr>\n",
       "    <tr>\n",
       "      <th>12426</th>\n",
       "      <td>No</td>\n",
       "    </tr>\n",
       "  </tbody>\n",
       "</table>\n",
       "<p>12427 rows × 1 columns</p>\n",
       "</div>"
      ],
      "text/plain": [
       "      willing_to_change_job\n",
       "0                        No\n",
       "1                        No\n",
       "2                        No\n",
       "3                        No\n",
       "4                        No\n",
       "...                     ...\n",
       "12422                   Yes\n",
       "12423                   Yes\n",
       "12424                    No\n",
       "12425                    No\n",
       "12426                    No\n",
       "\n",
       "[12427 rows x 1 columns]"
      ]
     },
     "execution_count": 404,
     "metadata": {},
     "output_type": "execute_result"
    }
   ],
   "source": [
    "y_true_measure = pd.DataFrame(y_true)\n",
    "y_true_measure"
   ]
  },
  {
   "cell_type": "code",
   "execution_count": 405,
   "metadata": {},
   "outputs": [],
   "source": [
    "y_true_measure = y_true_measure.eq('Yes').mul(1)"
   ]
  },
  {
   "cell_type": "code",
   "execution_count": 406,
   "metadata": {},
   "outputs": [],
   "source": [
    "y_true_measure['willing_to_change_job'] = y_true_measure['willing_to_change_job'].astype(float)"
   ]
  },
  {
   "cell_type": "code",
   "execution_count": 407,
   "metadata": {},
   "outputs": [
    {
     "data": {
      "text/plain": [
       "willing_to_change_job    float64\n",
       "dtype: object"
      ]
     },
     "execution_count": 407,
     "metadata": {},
     "output_type": "execute_result"
    }
   ],
   "source": [
    "y_true_measure.dtypes\n"
   ]
  },
  {
   "cell_type": "markdown",
   "metadata": {},
   "source": [
    "<h3>Testing Features</h3>"
   ]
  },
  {
   "cell_type": "code",
   "execution_count": 408,
   "metadata": {},
   "outputs": [
    {
     "data": {
      "text/plain": [
       "age    0.320396\n",
       "dtype: float64"
      ]
     },
     "execution_count": 408,
     "metadata": {},
     "output_type": "execute_result"
    }
   ],
   "source": [
    "X_train[['age']].corrwith(X_train['relative_wage'])"
   ]
  },
  {
   "cell_type": "code",
   "execution_count": 409,
   "metadata": {},
   "outputs": [
    {
     "name": "stdout",
     "output_type": "stream",
     "text": [
      "Feature gender correlation with y target equals:  gender    0.056329\n",
      "dtype: float64\n",
      "Feature age correlation with y target equals:  age   -0.162516\n",
      "dtype: float64\n",
      "Feature education correlation with y target equals:  education   -0.07351\n",
      "dtype: float64\n",
      "Feature field_of_studies correlation with y target equals:  field_of_studies   -0.029652\n",
      "dtype: float64\n",
      "Feature is_studying correlation with y target equals:  is_studying    0.09507\n",
      "dtype: float64\n",
      "Feature county correlation with y target equals:  county   -0.032307\n",
      "dtype: float64\n",
      "Feature relative_wage correlation with y target equals:  relative_wage   -0.344828\n",
      "dtype: float64\n",
      "Feature years_since_job_change correlation with y target equals:  years_since_job_change   -0.0874\n",
      "dtype: float64\n",
      "Feature years_of_experience correlation with y target equals:  years_of_experience   -0.153328\n",
      "dtype: float64\n",
      "Feature hours_of_training correlation with y target equals:  hours_of_training   -0.016839\n",
      "dtype: float64\n",
      "Feature is_certified correlation with y target equals:  is_certified   -0.130383\n",
      "dtype: float64\n",
      "Feature type_of_company correlation with y target equals:  type_of_company    0.117533\n",
      "dtype: float64\n"
     ]
    }
   ],
   "source": [
    "for feature in X_train:\n",
    "    print(f'Feature {feature} correlation with y target equals: ' , X_train[[feature]].corrwith(y_true_measure['willing_to_change_job']))"
   ]
  },
  {
   "cell_type": "code",
   "execution_count": 410,
   "metadata": {},
   "outputs": [
    {
     "name": "stdout",
     "output_type": "stream",
     "text": [
      "Feature gender correlation with y target equals:  gender    0.066584\n",
      "dtype: float64\n",
      "Feature age correlation with y target equals:  age   -0.144512\n",
      "dtype: float64\n",
      "Feature education correlation with y target equals:  education   -0.07931\n",
      "dtype: float64\n",
      "Feature field_of_studies correlation with y target equals:  field_of_studies   -0.047146\n",
      "dtype: float64\n",
      "Feature is_studying correlation with y target equals:  is_studying    0.119279\n",
      "dtype: float64\n",
      "Feature county correlation with y target equals:  county   -0.051121\n",
      "dtype: float64\n",
      "Feature relative_wage correlation with y target equals:  relative_wage   -0.241335\n",
      "dtype: float64\n",
      "Feature years_since_job_change correlation with y target equals:  years_since_job_change   -0.080377\n",
      "dtype: float64\n",
      "Feature years_of_experience correlation with y target equals:  years_of_experience   -0.153864\n",
      "dtype: float64\n",
      "Feature hours_of_training correlation with y target equals:  hours_of_training   -0.010596\n",
      "dtype: float64\n",
      "Feature is_certified correlation with y target equals:  is_certified   -0.130383\n",
      "dtype: float64\n",
      "Feature type_of_company correlation with y target equals:  type_of_company    0.143124\n",
      "dtype: float64\n"
     ]
    }
   ],
   "source": [
    "for feature in X_train:\n",
    "    print(f'Feature {feature} correlation with y target equals: ' , X_train[[feature]].corrwith(y_true_measure['willing_to_change_job'], method='kendall'))"
   ]
  },
  {
   "cell_type": "code",
   "execution_count": 411,
   "metadata": {},
   "outputs": [
    {
     "name": "stdout",
     "output_type": "stream",
     "text": [
      "Feature gender correlation with y target equals:  gender    0.068523\n",
      "dtype: float64\n",
      "Feature age correlation with y target equals:  age   -0.173463\n",
      "dtype: float64\n",
      "Feature education correlation with y target equals:  education   -0.083762\n",
      "dtype: float64\n",
      "Feature field_of_studies correlation with y target equals:  field_of_studies   -0.04886\n",
      "dtype: float64\n",
      "Feature is_studying correlation with y target equals:  is_studying    0.122979\n",
      "dtype: float64\n",
      "Feature county correlation with y target equals:  county   -0.060224\n",
      "dtype: float64\n",
      "Feature relative_wage correlation with y target equals:  relative_wage   -0.282067\n",
      "dtype: float64\n",
      "Feature years_since_job_change correlation with y target equals:  years_since_job_change   -0.087985\n",
      "dtype: float64\n",
      "Feature years_of_experience correlation with y target equals:  years_of_experience   -0.182008\n",
      "dtype: float64\n",
      "Feature hours_of_training correlation with y target equals:  hours_of_training   -0.012923\n",
      "dtype: float64\n",
      "Feature is_certified correlation with y target equals:  is_certified   -0.130383\n",
      "dtype: float64\n",
      "Feature type_of_company correlation with y target equals:  type_of_company    0.152184\n",
      "dtype: float64\n"
     ]
    }
   ],
   "source": [
    "for feature in X_train:\n",
    "    print(f'Feature {feature} correlation with y target equals: ' , X_train[[feature]].corrwith(y_true_measure['willing_to_change_job'], method='spearman'))"
   ]
  },
  {
   "cell_type": "markdown",
   "metadata": {},
   "source": [
    "<h3>Since all variables are weakly correlated with each other (correlation level below 0.5), we can proceed without removing features. Therefore let's remove potential outliers</h3>"
   ]
  },
  {
   "cell_type": "code",
   "execution_count": 412,
   "metadata": {},
   "outputs": [
    {
     "name": "stdout",
     "output_type": "stream",
     "text": [
      "Skewness not Detected:\n",
      "Skewness not Detected:\n"
     ]
    },
    {
     "data": {
      "text/html": [
       "<div>\n",
       "<style scoped>\n",
       "    .dataframe tbody tr th:only-of-type {\n",
       "        vertical-align: middle;\n",
       "    }\n",
       "\n",
       "    .dataframe tbody tr th {\n",
       "        vertical-align: top;\n",
       "    }\n",
       "\n",
       "    .dataframe thead th {\n",
       "        text-align: right;\n",
       "    }\n",
       "</style>\n",
       "<table border=\"1\" class=\"dataframe\">\n",
       "  <thead>\n",
       "    <tr style=\"text-align: right;\">\n",
       "      <th></th>\n",
       "      <th>gender</th>\n",
       "      <th>age</th>\n",
       "      <th>education</th>\n",
       "      <th>field_of_studies</th>\n",
       "      <th>is_studying</th>\n",
       "      <th>county</th>\n",
       "      <th>relative_wage</th>\n",
       "      <th>years_since_job_change</th>\n",
       "      <th>years_of_experience</th>\n",
       "      <th>hours_of_training</th>\n",
       "      <th>is_certified</th>\n",
       "      <th>type_of_company</th>\n",
       "    </tr>\n",
       "  </thead>\n",
       "  <tbody>\n",
       "    <tr>\n",
       "      <th>0</th>\n",
       "      <td>0</td>\n",
       "      <td>22</td>\n",
       "      <td>0</td>\n",
       "      <td>0</td>\n",
       "      <td>0</td>\n",
       "      <td>0</td>\n",
       "      <td>162.84</td>\n",
       "      <td>1</td>\n",
       "      <td>20</td>\n",
       "      <td>18</td>\n",
       "      <td>1</td>\n",
       "      <td>0</td>\n",
       "    </tr>\n",
       "    <tr>\n",
       "      <th>1</th>\n",
       "      <td>0</td>\n",
       "      <td>27</td>\n",
       "      <td>0</td>\n",
       "      <td>0</td>\n",
       "      <td>0</td>\n",
       "      <td>1</td>\n",
       "      <td>151.34</td>\n",
       "      <td>1</td>\n",
       "      <td>60</td>\n",
       "      <td>24</td>\n",
       "      <td>1</td>\n",
       "      <td>0</td>\n",
       "    </tr>\n",
       "    <tr>\n",
       "      <th>2</th>\n",
       "      <td>0</td>\n",
       "      <td>38</td>\n",
       "      <td>0</td>\n",
       "      <td>0</td>\n",
       "      <td>0</td>\n",
       "      <td>2</td>\n",
       "      <td>114.17</td>\n",
       "      <td>1</td>\n",
       "      <td>1030</td>\n",
       "      <td>96</td>\n",
       "      <td>1</td>\n",
       "      <td>1</td>\n",
       "    </tr>\n",
       "    <tr>\n",
       "      <th>3</th>\n",
       "      <td>1</td>\n",
       "      <td>47</td>\n",
       "      <td>0</td>\n",
       "      <td>0</td>\n",
       "      <td>0</td>\n",
       "      <td>3</td>\n",
       "      <td>123.55</td>\n",
       "      <td>4</td>\n",
       "      <td>2000</td>\n",
       "      <td>36</td>\n",
       "      <td>1</td>\n",
       "      <td>0</td>\n",
       "    </tr>\n",
       "    <tr>\n",
       "      <th>4</th>\n",
       "      <td>0</td>\n",
       "      <td>28</td>\n",
       "      <td>0</td>\n",
       "      <td>0</td>\n",
       "      <td>0</td>\n",
       "      <td>0</td>\n",
       "      <td>162.84</td>\n",
       "      <td>1</td>\n",
       "      <td>50</td>\n",
       "      <td>106</td>\n",
       "      <td>1</td>\n",
       "      <td>0</td>\n",
       "    </tr>\n",
       "  </tbody>\n",
       "</table>\n",
       "</div>"
      ],
      "text/plain": [
       "   gender  age  education  field_of_studies  is_studying  county  \\\n",
       "0       0   22          0                 0            0       0   \n",
       "1       0   27          0                 0            0       1   \n",
       "2       0   38          0                 0            0       2   \n",
       "3       1   47          0                 0            0       3   \n",
       "4       0   28          0                 0            0       0   \n",
       "\n",
       "   relative_wage  years_since_job_change  years_of_experience  \\\n",
       "0         162.84                       1                   20   \n",
       "1         151.34                       1                   60   \n",
       "2         114.17                       1                 1030   \n",
       "3         123.55                       4                 2000   \n",
       "4         162.84                       1                   50   \n",
       "\n",
       "   hours_of_training  is_certified  type_of_company  \n",
       "0                 18             1                0  \n",
       "1                 24             1                0  \n",
       "2                 96             1                1  \n",
       "3                 36             1                0  \n",
       "4                106             1                0  "
      ]
     },
     "execution_count": 412,
     "metadata": {},
     "output_type": "execute_result"
    }
   ],
   "source": [
    "# Removing outliers\n",
    "from sklearn.preprocessing import PowerTransformer\n",
    "def remove_skewness(x):\n",
    "    value = x.skew().values\n",
    "    for skew in value:\n",
    "        if skew > 4.0:\n",
    "            #skewness removal\n",
    "            pt=PowerTransformer(method='yeo-johnson') \n",
    "            X_power=pt.fit_transform(x)\n",
    "            df1=pd.DataFrame(X_power,columns=X.columns)\n",
    "            print(\"Skewness is Detected and will be Removed:\")\n",
    "            return df1\n",
    "        else:\n",
    "            print(\"Skewness not Detected:\")\n",
    "            return x\n",
    "        \n",
    "X_train = remove_skewness(X_train)\n",
    "X_test = remove_skewness(X_test)\n",
    "X_train.head()"
   ]
  },
  {
   "cell_type": "markdown",
   "metadata": {},
   "source": [
    "<h3>As the final step we should standardize data for more relevent results<h3>"
   ]
  },
  {
   "cell_type": "code",
   "execution_count": 413,
   "metadata": {},
   "outputs": [],
   "source": [
    "from scipy import stats"
   ]
  },
  {
   "cell_type": "code",
   "execution_count": 414,
   "metadata": {},
   "outputs": [],
   "source": [
    "X_train = stats.zscore(X_train)\n",
    "X_test = stats.zscore(X_test)"
   ]
  },
  {
   "cell_type": "code",
   "execution_count": 415,
   "metadata": {},
   "outputs": [
    {
     "data": {
      "text/plain": [
       "gender                    float64\n",
       "age                       float64\n",
       "education                 float64\n",
       "field_of_studies          float64\n",
       "is_studying               float64\n",
       "county                    float64\n",
       "relative_wage             float64\n",
       "years_since_job_change    float64\n",
       "years_of_experience       float64\n",
       "hours_of_training         float64\n",
       "is_certified              float64\n",
       "type_of_company           float64\n",
       "dtype: object"
      ]
     },
     "execution_count": 415,
     "metadata": {},
     "output_type": "execute_result"
    }
   ],
   "source": [
    "X_test.dtypes"
   ]
  },
  {
   "cell_type": "code",
   "execution_count": 416,
   "metadata": {},
   "outputs": [
    {
     "data": {
      "text/html": [
       "<div>\n",
       "<style scoped>\n",
       "    .dataframe tbody tr th:only-of-type {\n",
       "        vertical-align: middle;\n",
       "    }\n",
       "\n",
       "    .dataframe tbody tr th {\n",
       "        vertical-align: top;\n",
       "    }\n",
       "\n",
       "    .dataframe thead th {\n",
       "        text-align: right;\n",
       "    }\n",
       "</style>\n",
       "<table border=\"1\" class=\"dataframe\">\n",
       "  <thead>\n",
       "    <tr style=\"text-align: right;\">\n",
       "      <th></th>\n",
       "      <th>gender</th>\n",
       "      <th>age</th>\n",
       "      <th>education</th>\n",
       "      <th>field_of_studies</th>\n",
       "      <th>is_studying</th>\n",
       "      <th>county</th>\n",
       "      <th>relative_wage</th>\n",
       "      <th>years_since_job_change</th>\n",
       "      <th>years_of_experience</th>\n",
       "      <th>hours_of_training</th>\n",
       "      <th>is_certified</th>\n",
       "      <th>type_of_company</th>\n",
       "    </tr>\n",
       "  </thead>\n",
       "  <tbody>\n",
       "    <tr>\n",
       "      <th>0</th>\n",
       "      <td>-0.609820</td>\n",
       "      <td>-1.328185</td>\n",
       "      <td>-0.680835</td>\n",
       "      <td>-0.453356</td>\n",
       "      <td>-0.544820</td>\n",
       "      <td>-0.799404</td>\n",
       "      <td>0.741406</td>\n",
       "      <td>-0.566235</td>\n",
       "      <td>-0.863447</td>\n",
       "      <td>-0.779442</td>\n",
       "      <td>0.623291</td>\n",
       "      <td>-0.821281</td>\n",
       "    </tr>\n",
       "    <tr>\n",
       "      <th>1</th>\n",
       "      <td>-0.609820</td>\n",
       "      <td>-0.715787</td>\n",
       "      <td>-0.680835</td>\n",
       "      <td>-0.453356</td>\n",
       "      <td>-0.544820</td>\n",
       "      <td>-0.755666</td>\n",
       "      <td>0.217798</td>\n",
       "      <td>-0.566235</td>\n",
       "      <td>-0.810388</td>\n",
       "      <td>-0.680106</td>\n",
       "      <td>0.623291</td>\n",
       "      <td>-0.821281</td>\n",
       "    </tr>\n",
       "    <tr>\n",
       "      <th>2</th>\n",
       "      <td>-0.609820</td>\n",
       "      <td>0.631489</td>\n",
       "      <td>-0.680835</td>\n",
       "      <td>-0.453356</td>\n",
       "      <td>-0.544820</td>\n",
       "      <td>-0.711928</td>\n",
       "      <td>-1.474594</td>\n",
       "      <td>-0.566235</td>\n",
       "      <td>0.476301</td>\n",
       "      <td>0.511924</td>\n",
       "      <td>0.623291</td>\n",
       "      <td>-0.116540</td>\n",
       "    </tr>\n",
       "    <tr>\n",
       "      <th>3</th>\n",
       "      <td>0.910692</td>\n",
       "      <td>1.733806</td>\n",
       "      <td>-0.680835</td>\n",
       "      <td>-0.453356</td>\n",
       "      <td>-0.544820</td>\n",
       "      <td>-0.668190</td>\n",
       "      <td>-1.047512</td>\n",
       "      <td>1.587608</td>\n",
       "      <td>1.762990</td>\n",
       "      <td>-0.481434</td>\n",
       "      <td>0.623291</td>\n",
       "      <td>-0.821281</td>\n",
       "    </tr>\n",
       "    <tr>\n",
       "      <th>4</th>\n",
       "      <td>-0.609820</td>\n",
       "      <td>-0.593307</td>\n",
       "      <td>-0.680835</td>\n",
       "      <td>-0.453356</td>\n",
       "      <td>-0.544820</td>\n",
       "      <td>-0.799404</td>\n",
       "      <td>0.741406</td>\n",
       "      <td>-0.566235</td>\n",
       "      <td>-0.823653</td>\n",
       "      <td>0.677484</td>\n",
       "      <td>0.623291</td>\n",
       "      <td>-0.821281</td>\n",
       "    </tr>\n",
       "    <tr>\n",
       "      <th>...</th>\n",
       "      <td>...</td>\n",
       "      <td>...</td>\n",
       "      <td>...</td>\n",
       "      <td>...</td>\n",
       "      <td>...</td>\n",
       "      <td>...</td>\n",
       "      <td>...</td>\n",
       "      <td>...</td>\n",
       "      <td>...</td>\n",
       "      <td>...</td>\n",
       "      <td>...</td>\n",
       "      <td>...</td>\n",
       "    </tr>\n",
       "    <tr>\n",
       "      <th>12422</th>\n",
       "      <td>-0.609820</td>\n",
       "      <td>-0.715787</td>\n",
       "      <td>0.164225</td>\n",
       "      <td>0.547685</td>\n",
       "      <td>0.888085</td>\n",
       "      <td>1.999836</td>\n",
       "      <td>-2.199905</td>\n",
       "      <td>-1.284183</td>\n",
       "      <td>-0.863447</td>\n",
       "      <td>-0.514546</td>\n",
       "      <td>-1.604387</td>\n",
       "      <td>0.588201</td>\n",
       "    </tr>\n",
       "    <tr>\n",
       "      <th>12423</th>\n",
       "      <td>-0.609820</td>\n",
       "      <td>-0.225868</td>\n",
       "      <td>-0.680835</td>\n",
       "      <td>-0.453356</td>\n",
       "      <td>-0.544820</td>\n",
       "      <td>-0.624452</td>\n",
       "      <td>-1.643970</td>\n",
       "      <td>-0.566235</td>\n",
       "      <td>-0.797123</td>\n",
       "      <td>0.843044</td>\n",
       "      <td>0.623291</td>\n",
       "      <td>-0.821281</td>\n",
       "    </tr>\n",
       "    <tr>\n",
       "      <th>12424</th>\n",
       "      <td>-0.609820</td>\n",
       "      <td>1.733806</td>\n",
       "      <td>1.854345</td>\n",
       "      <td>-0.453356</td>\n",
       "      <td>-0.544820</td>\n",
       "      <td>-0.799404</td>\n",
       "      <td>0.741406</td>\n",
       "      <td>-1.284183</td>\n",
       "      <td>1.762990</td>\n",
       "      <td>1.306611</td>\n",
       "      <td>0.623291</td>\n",
       "      <td>-0.821281</td>\n",
       "    </tr>\n",
       "    <tr>\n",
       "      <th>12425</th>\n",
       "      <td>-0.609820</td>\n",
       "      <td>-1.083226</td>\n",
       "      <td>-0.680835</td>\n",
       "      <td>-0.453356</td>\n",
       "      <td>-0.544820</td>\n",
       "      <td>-0.624452</td>\n",
       "      <td>-1.643970</td>\n",
       "      <td>-1.284183</td>\n",
       "      <td>-0.823653</td>\n",
       "      <td>0.578148</td>\n",
       "      <td>0.623291</td>\n",
       "      <td>-0.821281</td>\n",
       "    </tr>\n",
       "    <tr>\n",
       "      <th>12426</th>\n",
       "      <td>-0.609820</td>\n",
       "      <td>-0.715787</td>\n",
       "      <td>-0.680835</td>\n",
       "      <td>-0.453356</td>\n",
       "      <td>0.888085</td>\n",
       "      <td>-0.755666</td>\n",
       "      <td>0.217798</td>\n",
       "      <td>-0.566235</td>\n",
       "      <td>-0.797123</td>\n",
       "      <td>-0.448322</td>\n",
       "      <td>-1.604387</td>\n",
       "      <td>-0.821281</td>\n",
       "    </tr>\n",
       "  </tbody>\n",
       "</table>\n",
       "<p>12427 rows × 12 columns</p>\n",
       "</div>"
      ],
      "text/plain": [
       "         gender       age  education  field_of_studies  is_studying    county  \\\n",
       "0     -0.609820 -1.328185  -0.680835         -0.453356    -0.544820 -0.799404   \n",
       "1     -0.609820 -0.715787  -0.680835         -0.453356    -0.544820 -0.755666   \n",
       "2     -0.609820  0.631489  -0.680835         -0.453356    -0.544820 -0.711928   \n",
       "3      0.910692  1.733806  -0.680835         -0.453356    -0.544820 -0.668190   \n",
       "4     -0.609820 -0.593307  -0.680835         -0.453356    -0.544820 -0.799404   \n",
       "...         ...       ...        ...               ...          ...       ...   \n",
       "12422 -0.609820 -0.715787   0.164225          0.547685     0.888085  1.999836   \n",
       "12423 -0.609820 -0.225868  -0.680835         -0.453356    -0.544820 -0.624452   \n",
       "12424 -0.609820  1.733806   1.854345         -0.453356    -0.544820 -0.799404   \n",
       "12425 -0.609820 -1.083226  -0.680835         -0.453356    -0.544820 -0.624452   \n",
       "12426 -0.609820 -0.715787  -0.680835         -0.453356     0.888085 -0.755666   \n",
       "\n",
       "       relative_wage  years_since_job_change  years_of_experience  \\\n",
       "0           0.741406               -0.566235            -0.863447   \n",
       "1           0.217798               -0.566235            -0.810388   \n",
       "2          -1.474594               -0.566235             0.476301   \n",
       "3          -1.047512                1.587608             1.762990   \n",
       "4           0.741406               -0.566235            -0.823653   \n",
       "...              ...                     ...                  ...   \n",
       "12422      -2.199905               -1.284183            -0.863447   \n",
       "12423      -1.643970               -0.566235            -0.797123   \n",
       "12424       0.741406               -1.284183             1.762990   \n",
       "12425      -1.643970               -1.284183            -0.823653   \n",
       "12426       0.217798               -0.566235            -0.797123   \n",
       "\n",
       "       hours_of_training  is_certified  type_of_company  \n",
       "0              -0.779442      0.623291        -0.821281  \n",
       "1              -0.680106      0.623291        -0.821281  \n",
       "2               0.511924      0.623291        -0.116540  \n",
       "3              -0.481434      0.623291        -0.821281  \n",
       "4               0.677484      0.623291        -0.821281  \n",
       "...                  ...           ...              ...  \n",
       "12422          -0.514546     -1.604387         0.588201  \n",
       "12423           0.843044      0.623291        -0.821281  \n",
       "12424           1.306611      0.623291        -0.821281  \n",
       "12425           0.578148      0.623291        -0.821281  \n",
       "12426          -0.448322     -1.604387        -0.821281  \n",
       "\n",
       "[12427 rows x 12 columns]"
      ]
     },
     "execution_count": 416,
     "metadata": {},
     "output_type": "execute_result"
    }
   ],
   "source": [
    "X_train"
   ]
  },
  {
   "cell_type": "markdown",
   "metadata": {},
   "source": [
    "<h2>ML model prediction</h2>"
   ]
  },
  {
   "cell_type": "code",
   "execution_count": 417,
   "metadata": {},
   "outputs": [],
   "source": [
    "from sklearn.linear_model import LogisticRegression"
   ]
  },
  {
   "cell_type": "code",
   "execution_count": 418,
   "metadata": {},
   "outputs": [
    {
     "name": "stdout",
     "output_type": "stream",
     "text": [
      "Score:  0.7709\n",
      "[[ 0.05625188 -0.11039514 -0.19960889 -0.01029502  0.04977832 -0.27242185\n",
      "  -0.78495805  0.08225069  0.04970362 -0.0527006  -0.23224514  0.26399965]] ['No' 'Yes'] [-1.29086599]\n"
     ]
    }
   ],
   "source": [
    "log3 = LogisticRegression(random_state=0, penalty='l2').fit(X_train,y_true)\n",
    "print('Score: ', round(log3.score(X_train, y_true), 4))\n",
    "print(log3.coef_, log3.classes_, log3.intercept_)\n",
    "y_pred = log3.predict(X_test)"
   ]
  },
  {
   "cell_type": "code",
   "execution_count": 419,
   "metadata": {},
   "outputs": [
    {
     "name": "stdout",
     "output_type": "stream",
     "text": [
      "0.7930313028084011\n"
     ]
    },
    {
     "data": {
      "text/plain": [
       "array(['No', 'No', 'Yes', ..., 'No', 'No', 'No'], dtype=object)"
      ]
     },
     "execution_count": 419,
     "metadata": {},
     "output_type": "execute_result"
    }
   ],
   "source": [
    "from sklearn import svm\n",
    "vectorMachine = svm.SVC(shrinking=True, probability=False, decision_function_shape='ovo').fit(X_train, y_true)\n",
    "print(vectorMachine.score(X_train, y_true))\n",
    "y_pred_SVC = vectorMachine.predict(X_test)\n",
    "y_pred_SVC"
   ]
  },
  {
   "cell_type": "code",
   "execution_count": 420,
   "metadata": {},
   "outputs": [
    {
     "name": "stdout",
     "output_type": "stream",
     "text": [
      "The predicted values are correct in numerical term:  ['No' 'No' 'Yes' ... 'No' 'No' 'No']\n"
     ]
    }
   ],
   "source": [
    "print('The predicted values are correct in numerical term: ', y_pred)"
   ]
  },
  {
   "cell_type": "markdown",
   "metadata": {},
   "source": [
    "<h3>The best score is achieved by using Support Vector Classifier with rgf kernel. The score is 0.7930. The question is if we can make it even better?</h3>"
   ]
  },
  {
   "cell_type": "code",
   "execution_count": 421,
   "metadata": {},
   "outputs": [],
   "source": [
    "from sklearn.feature_selection import SelectKBest\n",
    "from sklearn.feature_selection import f_classif"
   ]
  },
  {
   "cell_type": "markdown",
   "metadata": {},
   "source": [
    "We can use KBest Selector to determine best features. Since dataset is small we will brute force all possible numbers of features to be fitted."
   ]
  },
  {
   "cell_type": "code",
   "execution_count": 422,
   "metadata": {},
   "outputs": [
    {
     "data": {
      "text/plain": [
       "gender                    float64\n",
       "age                       float64\n",
       "education                 float64\n",
       "field_of_studies          float64\n",
       "is_studying               float64\n",
       "county                    float64\n",
       "relative_wage             float64\n",
       "years_since_job_change    float64\n",
       "years_of_experience       float64\n",
       "hours_of_training         float64\n",
       "is_certified              float64\n",
       "type_of_company           float64\n",
       "dtype: object"
      ]
     },
     "execution_count": 422,
     "metadata": {},
     "output_type": "execute_result"
    }
   ],
   "source": [
    "X_train.dtypes"
   ]
  },
  {
   "cell_type": "code",
   "execution_count": 423,
   "metadata": {},
   "outputs": [
    {
     "data": {
      "text/plain": [
       "(12427, 12)"
      ]
     },
     "execution_count": 423,
     "metadata": {},
     "output_type": "execute_result"
    }
   ],
   "source": [
    "X_train.shape"
   ]
  },
  {
   "cell_type": "code",
   "execution_count": 424,
   "metadata": {},
   "outputs": [
    {
     "name": "stdout",
     "output_type": "stream",
     "text": [
      "Score:  0.7586\n",
      "Best score:  0 Best number of features:  1\n",
      "Score:  0.7732\n",
      "Best score:  0 Best number of features:  2\n",
      "Score:  0.7711\n",
      "Best score:  0 Best number of features:  3\n",
      "Score:  0.7639\n",
      "Best score:  0 Best number of features:  4\n",
      "Score:  0.7654\n",
      "Best score:  0 Best number of features:  5\n",
      "Score:  0.7652\n",
      "Best score:  0 Best number of features:  6\n",
      "Score:  0.7661\n",
      "Best score:  0 Best number of features:  7\n",
      "Score:  0.7672\n",
      "Best score:  0 Best number of features:  8\n",
      "Score:  0.767\n",
      "Best score:  0 Best number of features:  9\n"
     ]
    }
   ],
   "source": [
    "best_score = 0\n",
    "for ks in range(1, 10):\n",
    "    X_Clustered = SelectKBest(f_classif, k=ks).fit(X_train, y_true)\n",
    "    cols_idxs = X_Clustered.get_support(indices=True)\n",
    "    features_clustered = X_train.iloc[:,cols_idxs]\n",
    "\n",
    "    logC = LogisticRegression(random_state=0, solver='liblinear', penalty='l1').fit(features_clustered,y_true)\n",
    "    scored = logC.score(features_clustered, y_true)\n",
    "    print('Score: ', round(logC.score(features_clustered, y_true), 4))\n",
    "    #y_pred = logC.predict(features_clustered)\n",
    "    #print(log.coef_, log.classes_, log.intercept_)\n",
    "    if scored > best_score:\n",
    "        score = best_score\n",
    "        print('Best score: ', score, 'Best number of features: ', ks)\n"
   ]
  },
  {
   "cell_type": "code",
   "execution_count": 425,
   "metadata": {},
   "outputs": [
    {
     "name": "stdout",
     "output_type": "stream",
     "text": [
      "Score:  0.7803\n",
      "Best score:  0 Best number of features:  1\n",
      "Score:  0.7789\n",
      "Best score:  0 Best number of features:  2\n",
      "Score:  0.7783\n",
      "Best score:  0 Best number of features:  3\n",
      "Score:  0.7783\n",
      "Best score:  0 Best number of features:  4\n",
      "Score:  0.7801\n",
      "Best score:  0 Best number of features:  5\n",
      "Score:  0.78\n",
      "Best score:  0 Best number of features:  6\n",
      "Score:  0.7804\n",
      "Best score:  0 Best number of features:  7\n",
      "Score:  0.7855\n",
      "Best score:  0 Best number of features:  8\n",
      "Score:  0.7889\n",
      "Best score:  0 Best number of features:  9\n"
     ]
    }
   ],
   "source": [
    "best_vector_score = 0\n",
    "for ks in range(1, 10):\n",
    "    X_Clustered = SelectKBest(f_classif, k=ks).fit(X_train, y_true)\n",
    "    cols_idxs = X_Clustered.get_support(indices=True)\n",
    "    features_clustered = X_train.iloc[:,cols_idxs]\n",
    "\n",
    "    vectorC = svm.SVC(shrinking=True, probability=False, decision_function_shape='ovo').fit(features_clustered,y_true)\n",
    "    scored = vectorC.score(features_clustered, y_true)\n",
    "    print('Score: ', round(vectorC.score(features_clustered, y_true), 4))\n",
    "    #y_pred = logC.predict(features_clustered)\n",
    "    #print(log.coef_, log.classes_, log.intercept_)\n",
    "    if scored > best_vector_score:\n",
    "        score = best_vector_score\n",
    "        print('Best score: ', score, 'Best number of features: ', ks)"
   ]
  },
  {
   "cell_type": "markdown",
   "metadata": {},
   "source": [
    "<h2>Metrics</h2>"
   ]
  },
  {
   "cell_type": "code",
   "execution_count": 427,
   "metadata": {},
   "outputs": [
    {
     "name": "stdout",
     "output_type": "stream",
     "text": [
      "willing_to_change_job    float64\n",
      "dtype: object\n"
     ]
    },
    {
     "data": {
      "text/plain": [
       "486029343098932.2"
      ]
     },
     "execution_count": 427,
     "metadata": {},
     "output_type": "execute_result"
    }
   ],
   "source": [
    "from sklearn.metrics import mean_absolute_percentage_error\n",
    "n = len(y_pred_SVC)\n",
    "\n",
    "y_true = pd.DataFrame(y_true)\n",
    "y_true = y_true.replace({'willing_to_change_job': {'Yes': 1, 'No': 0}})\n",
    "y_true['willing_to_change_job'] = y_true['willing_to_change_job'].astype(float)\n",
    "#y_pred['willing_to_change_job'] = y_pred['willing_to_change_job'].astype(float)\n",
    "print(y_true.dtypes)\n",
    "y_pred_SVC = pd.DataFrame(y_pred_SVC)\n",
    "y_pred_SVC[0] = y_pred_SVC[0].replace({'Yes': 1, 'No': 0})\n",
    "\n",
    "MAPE = mean_absolute_percentage_error(y_true.iloc[:n], y_pred_SVC)\n",
    "MAPE\n"
   ]
  },
  {
   "cell_type": "code",
   "execution_count": 428,
   "metadata": {},
   "outputs": [
    {
     "data": {
      "text/html": [
       "<div>\n",
       "<style scoped>\n",
       "    .dataframe tbody tr th:only-of-type {\n",
       "        vertical-align: middle;\n",
       "    }\n",
       "\n",
       "    .dataframe tbody tr th {\n",
       "        vertical-align: top;\n",
       "    }\n",
       "\n",
       "    .dataframe thead th {\n",
       "        text-align: right;\n",
       "    }\n",
       "</style>\n",
       "<table border=\"1\" class=\"dataframe\">\n",
       "  <thead>\n",
       "    <tr style=\"text-align: right;\">\n",
       "      <th></th>\n",
       "      <th>0</th>\n",
       "      <th>index</th>\n",
       "    </tr>\n",
       "  </thead>\n",
       "  <tbody>\n",
       "    <tr>\n",
       "      <th>0</th>\n",
       "      <td>0</td>\n",
       "      <td>0</td>\n",
       "    </tr>\n",
       "    <tr>\n",
       "      <th>1</th>\n",
       "      <td>0</td>\n",
       "      <td>1</td>\n",
       "    </tr>\n",
       "    <tr>\n",
       "      <th>2</th>\n",
       "      <td>1</td>\n",
       "      <td>2</td>\n",
       "    </tr>\n",
       "    <tr>\n",
       "      <th>3</th>\n",
       "      <td>0</td>\n",
       "      <td>3</td>\n",
       "    </tr>\n",
       "    <tr>\n",
       "      <th>4</th>\n",
       "      <td>0</td>\n",
       "      <td>4</td>\n",
       "    </tr>\n",
       "    <tr>\n",
       "      <th>...</th>\n",
       "      <td>...</td>\n",
       "      <td>...</td>\n",
       "    </tr>\n",
       "    <tr>\n",
       "      <th>3303</th>\n",
       "      <td>0</td>\n",
       "      <td>3303</td>\n",
       "    </tr>\n",
       "    <tr>\n",
       "      <th>3304</th>\n",
       "      <td>0</td>\n",
       "      <td>3304</td>\n",
       "    </tr>\n",
       "    <tr>\n",
       "      <th>3305</th>\n",
       "      <td>0</td>\n",
       "      <td>3305</td>\n",
       "    </tr>\n",
       "    <tr>\n",
       "      <th>3306</th>\n",
       "      <td>0</td>\n",
       "      <td>3306</td>\n",
       "    </tr>\n",
       "    <tr>\n",
       "      <th>3307</th>\n",
       "      <td>0</td>\n",
       "      <td>3307</td>\n",
       "    </tr>\n",
       "  </tbody>\n",
       "</table>\n",
       "<p>3308 rows × 2 columns</p>\n",
       "</div>"
      ],
      "text/plain": [
       "      0  index\n",
       "0     0      0\n",
       "1     0      1\n",
       "2     1      2\n",
       "3     0      3\n",
       "4     0      4\n",
       "...  ..    ...\n",
       "3303  0   3303\n",
       "3304  0   3304\n",
       "3305  0   3305\n",
       "3306  0   3306\n",
       "3307  0   3307\n",
       "\n",
       "[3308 rows x 2 columns]"
      ]
     },
     "execution_count": 428,
     "metadata": {},
     "output_type": "execute_result"
    }
   ],
   "source": [
    "y_pred_SVC['index'] = y_pred_SVC.index\n",
    "y_pred_SVC"
   ]
  },
  {
   "cell_type": "code",
   "execution_count": 429,
   "metadata": {},
   "outputs": [],
   "source": [
    "y_pred_SVC.to_csv('job_change_prediction.csv', index=False)"
   ]
  },
  {
   "cell_type": "code",
   "execution_count": 370,
   "metadata": {},
   "outputs": [],
   "source": [
    "import joblib"
   ]
  },
  {
   "cell_type": "code",
   "execution_count": 371,
   "metadata": {},
   "outputs": [
    {
     "data": {
      "text/plain": [
       "['SVMClassificationModel.joblib']"
      ]
     },
     "execution_count": 371,
     "metadata": {},
     "output_type": "execute_result"
    }
   ],
   "source": [
    "joblib.dump(vectorMachine, 'SVMClassificationModel.joblib')"
   ]
  }
 ],
 "metadata": {
  "kernelspec": {
   "display_name": "Python 3",
   "language": "python",
   "name": "python3"
  },
  "language_info": {
   "codemirror_mode": {
    "name": "ipython",
    "version": 3
   },
   "file_extension": ".py",
   "mimetype": "text/x-python",
   "name": "python",
   "nbconvert_exporter": "python",
   "pygments_lexer": "ipython3",
   "version": "3.11.4"
  }
 },
 "nbformat": 4,
 "nbformat_minor": 2
}
